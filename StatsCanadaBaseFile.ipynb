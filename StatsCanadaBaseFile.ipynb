{
  "nbformat": 4,
  "nbformat_minor": 0,
  "metadata": {
    "colab": {
      "provenance": [],
      "authorship_tag": "ABX9TyO8znlyX2//sspHM1NnRiSx",
      "include_colab_link": true
    },
    "kernelspec": {
      "name": "python3",
      "display_name": "Python 3"
    },
    "language_info": {
      "name": "python"
    }
  },
  "cells": [
    {
      "cell_type": "markdown",
      "metadata": {
        "id": "view-in-github",
        "colab_type": "text"
      },
      "source": [
        "<a href=\"https://colab.research.google.com/github/InternetSocietyManitobaChapter/JupyterNotebook_NorthEndConnect/blob/main/StatsCanadaBaseFile.ipynb\" target=\"_parent\"><img src=\"https://colab.research.google.com/assets/colab-badge.svg\" alt=\"Open In Colab\"/></a>"
      ]
    },
    {
      "cell_type": "code",
      "execution_count": null,
      "metadata": {
        "id": "15zv_JNuKxWc"
      },
      "outputs": [],
      "source": [
        "# Read the North End Connect data file\n",
        "\n",
        "import pandas as pd\n",
        "import numpy as np\n",
        "import matplotlib.pyplot as plt\n",
        "import io\n",
        "import requests\n",
        "\n",
        "url=\"https://raw.githubusercontent.com/InternetSocietyManitobaChapter/JupyterNotebook_NorthEndConnect/main/northendconnect.csv\"\n",
        "s=requests.get(url).content\n",
        "northEndConnect=pd.read_csv(io.StringIO(s.decode('utf-8')))\n",
        "\n",
        "# Display a few rows of the data to ensure the file is connected correctly\n",
        "\n",
        "display(northEndConnect.tail(10))"
      ]
    }
  ]
}