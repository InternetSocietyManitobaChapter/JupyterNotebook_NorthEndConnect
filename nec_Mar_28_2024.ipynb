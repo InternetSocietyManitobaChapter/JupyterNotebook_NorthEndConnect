{
  "nbformat": 4,
  "nbformat_minor": 0,
  "metadata": {
    "colab": {
      "provenance": [],
      "authorship_tag": "ABX9TyMfqALDYD04qnk/RZDBOLHA",
      "include_colab_link": true
    },
    "kernelspec": {
      "name": "python3",
      "display_name": "Python 3"
    },
    "language_info": {
      "name": "python"
    }
  },
  "cells": [
    {
      "cell_type": "markdown",
      "metadata": {
        "id": "view-in-github",
        "colab_type": "text"
      },
      "source": [
        "<a href=\"https://colab.research.google.com/github/InternetSocietyManitobaChapter/JupyterNotebook_NorthEndConnect/blob/main/nec_Mar_28_2024.ipynb\" target=\"_parent\"><img src=\"https://colab.research.google.com/assets/colab-badge.svg\" alt=\"Open In Colab\"/></a>"
      ]
    },
    {
      "cell_type": "code",
      "execution_count": null,
      "metadata": {
        "id": "Lx4ND-LBw9Ai"
      },
      "outputs": [],
      "source": [
        "!pip install geopandas\n",
        "!pip install wheel\n",
        "!pip install numpy\n",
        "!pip install shapely\n",
        "!pip install fiona\n",
        "!pip install pyproj\n",
        "!pip install pandas\n",
        "import pandas as pd\n",
        "import numpy as np\n",
        "import matplotlib.pyplot as plt\n",
        "import io\n",
        "import requests"
      ]
    }
  ]
}