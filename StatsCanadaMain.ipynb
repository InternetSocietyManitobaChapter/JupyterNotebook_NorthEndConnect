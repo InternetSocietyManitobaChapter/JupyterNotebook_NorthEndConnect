# Read the North End Connect data file

import pandas as pd
import numpy as np
import matplotlib.pyplot as plt
import io
import requests

url="https://raw.githubusercontent.com/InternetSocietyManitobaChapter/JupyterNotebook_NorthEndConnect/main/northendconnect.csv"
s=requests.get(url).content
northEndConnect=pd.read_csv(io.StringIO(s.decode('utf-8')))

# Display a few rows of the data to ensure the file is connected correctly

display(northEndConnect.tail(10))
