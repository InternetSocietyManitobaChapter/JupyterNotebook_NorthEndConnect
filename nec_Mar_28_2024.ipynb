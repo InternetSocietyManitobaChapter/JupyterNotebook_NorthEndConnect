{
  "nbformat": 4,
  "nbformat_minor": 0,
  "metadata": {
    "colab": {
      "provenance": [],
      "authorship_tag": "ABX9TyMfee568qwL/wI1dE6i6sfx",
      "include_colab_link": true
    },
    "kernelspec": {
      "name": "python3",
      "display_name": "Python 3"
    },
    "language_info": {
      "name": "python"
    }
  },
  "cells": [
    {
      "cell_type": "markdown",
      "metadata": {
        "id": "view-in-github",
        "colab_type": "text"
      },
      "source": [
        "<a href=\"https://colab.research.google.com/github/InternetSocietyManitobaChapter/JupyterNotebook_NorthEndConnect/blob/main/nec_Mar_28_2024.ipynb\" target=\"_parent\"><img src=\"https://colab.research.google.com/assets/colab-badge.svg\" alt=\"Open In Colab\"/></a>"
      ]
    },
    {
      "cell_type": "code",
      "execution_count": 1,
      "metadata": {
        "colab": {
          "base_uri": "https://localhost:8080/"
        },
        "id": "Lx4ND-LBw9Ai",
        "outputId": "a10c9f55-d796-42ae-e834-b1b083e1f57c"
      },
      "outputs": [
        {
          "output_type": "stream",
          "name": "stdout",
          "text": [
            "Requirement already satisfied: geopandas in /usr/local/lib/python3.10/dist-packages (0.13.2)\n",
            "Requirement already satisfied: fiona>=1.8.19 in /usr/local/lib/python3.10/dist-packages (from geopandas) (1.9.6)\n",
            "Requirement already satisfied: packaging in /usr/local/lib/python3.10/dist-packages (from geopandas) (24.0)\n",
            "Requirement already satisfied: pandas>=1.1.0 in /usr/local/lib/python3.10/dist-packages (from geopandas) (1.5.3)\n",
            "Requirement already satisfied: pyproj>=3.0.1 in /usr/local/lib/python3.10/dist-packages (from geopandas) (3.6.1)\n",
            "Requirement already satisfied: shapely>=1.7.1 in /usr/local/lib/python3.10/dist-packages (from geopandas) (2.0.3)\n",
            "Requirement already satisfied: attrs>=19.2.0 in /usr/local/lib/python3.10/dist-packages (from fiona>=1.8.19->geopandas) (23.2.0)\n",
            "Requirement already satisfied: certifi in /usr/local/lib/python3.10/dist-packages (from fiona>=1.8.19->geopandas) (2024.2.2)\n",
            "Requirement already satisfied: click~=8.0 in /usr/local/lib/python3.10/dist-packages (from fiona>=1.8.19->geopandas) (8.1.7)\n",
            "Requirement already satisfied: click-plugins>=1.0 in /usr/local/lib/python3.10/dist-packages (from fiona>=1.8.19->geopandas) (1.1.1)\n",
            "Requirement already satisfied: cligj>=0.5 in /usr/local/lib/python3.10/dist-packages (from fiona>=1.8.19->geopandas) (0.7.2)\n",
            "Requirement already satisfied: six in /usr/local/lib/python3.10/dist-packages (from fiona>=1.8.19->geopandas) (1.16.0)\n",
            "Requirement already satisfied: python-dateutil>=2.8.1 in /usr/local/lib/python3.10/dist-packages (from pandas>=1.1.0->geopandas) (2.8.2)\n",
            "Requirement already satisfied: pytz>=2020.1 in /usr/local/lib/python3.10/dist-packages (from pandas>=1.1.0->geopandas) (2023.4)\n",
            "Requirement already satisfied: numpy>=1.21.0 in /usr/local/lib/python3.10/dist-packages (from pandas>=1.1.0->geopandas) (1.25.2)\n",
            "Requirement already satisfied: wheel in /usr/local/lib/python3.10/dist-packages (0.43.0)\n",
            "Requirement already satisfied: numpy in /usr/local/lib/python3.10/dist-packages (1.25.2)\n",
            "Requirement already satisfied: shapely in /usr/local/lib/python3.10/dist-packages (2.0.3)\n",
            "Requirement already satisfied: numpy<2,>=1.14 in /usr/local/lib/python3.10/dist-packages (from shapely) (1.25.2)\n",
            "Requirement already satisfied: fiona in /usr/local/lib/python3.10/dist-packages (1.9.6)\n",
            "Requirement already satisfied: attrs>=19.2.0 in /usr/local/lib/python3.10/dist-packages (from fiona) (23.2.0)\n",
            "Requirement already satisfied: certifi in /usr/local/lib/python3.10/dist-packages (from fiona) (2024.2.2)\n",
            "Requirement already satisfied: click~=8.0 in /usr/local/lib/python3.10/dist-packages (from fiona) (8.1.7)\n",
            "Requirement already satisfied: click-plugins>=1.0 in /usr/local/lib/python3.10/dist-packages (from fiona) (1.1.1)\n",
            "Requirement already satisfied: cligj>=0.5 in /usr/local/lib/python3.10/dist-packages (from fiona) (0.7.2)\n",
            "Requirement already satisfied: six in /usr/local/lib/python3.10/dist-packages (from fiona) (1.16.0)\n",
            "Requirement already satisfied: pyproj in /usr/local/lib/python3.10/dist-packages (3.6.1)\n",
            "Requirement already satisfied: certifi in /usr/local/lib/python3.10/dist-packages (from pyproj) (2024.2.2)\n",
            "Requirement already satisfied: pandas in /usr/local/lib/python3.10/dist-packages (1.5.3)\n",
            "Requirement already satisfied: python-dateutil>=2.8.1 in /usr/local/lib/python3.10/dist-packages (from pandas) (2.8.2)\n",
            "Requirement already satisfied: pytz>=2020.1 in /usr/local/lib/python3.10/dist-packages (from pandas) (2023.4)\n",
            "Requirement already satisfied: numpy>=1.21.0 in /usr/local/lib/python3.10/dist-packages (from pandas) (1.25.2)\n",
            "Requirement already satisfied: six>=1.5 in /usr/local/lib/python3.10/dist-packages (from python-dateutil>=2.8.1->pandas) (1.16.0)\n"
          ]
        }
      ],
      "source": [
        "!pip install geopandas\n",
        "!pip install wheel\n",
        "!pip install numpy\n",
        "!pip install shapely\n",
        "!pip install fiona\n",
        "!pip install pyproj\n",
        "!pip install pandas\n",
        "import pandas as pd\n",
        "import numpy as np\n",
        "import matplotlib.pyplot as plt\n",
        "import io\n",
        "import requests"
      ]
    },
    {
      "cell_type": "code",
      "source": [
        "import pandas as pd\n",
        "df = pd.read_csv('https://raw.githubusercontent.com/InternetSocietyManitobaChapter/JupyterNotebook_NorthEndConnect/main/nec%20Mar%2028%202024.csv')"
      ],
      "metadata": {
        "id": "B1F0NuAZzYyY"
      },
      "execution_count": 5,
      "outputs": []
    },
    {
      "cell_type": "markdown",
      "source": [
        "Viewing original number of rows and columns"
      ],
      "metadata": {
        "id": "CdBmBSAZz0vG"
      }
    },
    {
      "cell_type": "code",
      "source": [
        "# Count the number of rows and columns\n",
        "num_rows = df.shape[0]\n",
        "num_columns = df.shape[1]\n",
        "\n",
        "# Print the results\n",
        "print(\"Number of rows:\", num_rows)\n",
        "print(\"Number of columns:\", num_columns)"
      ],
      "metadata": {
        "colab": {
          "base_uri": "https://localhost:8080/"
        },
        "id": "TtHm6RT8z1t7",
        "outputId": "d44645da-fe31-43df-e782-a826cef20425"
      },
      "execution_count": 6,
      "outputs": [
        {
          "output_type": "stream",
          "name": "stdout",
          "text": [
            "Number of rows: 23021\n",
            "Number of columns: 31\n"
          ]
        }
      ]
    },
    {
      "cell_type": "markdown",
      "source": [
        "Removing rows 2-8064, before metrics such as Jitter, Latency, and Packet loss were reliably measured, and counting the new number of rows"
      ],
      "metadata": {
        "id": "7r6HfRPcz9gf"
      }
    },
    {
      "cell_type": "code",
      "source": [
        "# Read the CSV file\n",
        "df = pd.read_csv('https://raw.githubusercontent.com/InternetSocietyManitobaChapter/JupyterNotebook_NorthEndConnect/main/nec%20Mar%2028%202024.csv')\n",
        "\n",
        "# Remove rows 2 through 8064\n",
        "df.drop(df.index[1:8064], inplace=True)\n",
        "\n",
        "# Save the updated DataFrame\n",
        "df.to_csv('https://raw.githubusercontent.com/InternetSocietyManitobaChapter/JupyterNotebook_NorthEndConnect/main/nec%20Mar%2028%202024.csv', index=False)\n",
        "\n",
        "# Count the number of rows\n",
        "num_rows = df.shape[0]\n",
        "\n",
        "# Print the results\n",
        "print(\"Number of rows:\", num_rows)"
      ],
      "metadata": {
        "colab": {
          "base_uri": "https://localhost:8080/"
        },
        "id": "ebnVWhQcz-zh",
        "outputId": "373315c8-ad2c-4b4e-af4b-f5277606e052"
      },
      "execution_count": 7,
      "outputs": [
        {
          "output_type": "stream",
          "name": "stdout",
          "text": [
            "Number of rows: 14958\n"
          ]
        }
      ]
    },
    {
      "cell_type": "markdown",
      "source": [
        "Looking at the % of missing items in columns"
      ],
      "metadata": {
        "id": "bsFV0mvA0MgZ"
      }
    },
    {
      "cell_type": "code",
      "source": [
        "# Calculate the percentage of missing cells in each column\n",
        "missing_percentages = df.isna().sum() / len(df) * 100\n",
        "\n",
        "# Print the result\n",
        "print(missing_percentages)"
      ],
      "metadata": {
        "colab": {
          "base_uri": "https://localhost:8080/"
        },
        "id": "7ltkDvaW0QCJ",
        "outputId": "39cc99df-5629-4191-c30b-a1d0c6e6124f"
      },
      "execution_count": 8,
      "outputs": [
        {
          "output_type": "stream",
          "name": "stdout",
          "text": [
            "TEST ID                       0.000000\n",
            "TEST DATE / UTC HOUR          0.000000\n",
            "GEO LATITUDE                  0.000000\n",
            "GEO LONGITUDE                 0.000000\n",
            "DOWNLOAD SPEED                0.000000\n",
            "UPLOAD SPEED                  0.000000\n",
            "JITTER                        0.006685\n",
            "LATENCY                       0.006685\n",
            "PACKET LOSS                   0.006685\n",
            "MOBILE TEST                   0.000000\n",
            "ISP                           0.000000\n",
            "CLIENT IP                     0.000000\n",
            "CLIENT CITY                   0.000000\n",
            "CLIENT PROVINCE               0.000000\n",
            "CLIENT POSTAL CODE            0.000000\n",
            "AS NUMBER                     0.006685\n",
            "IPV6 SUPPORTED                0.000000\n",
            "DNSSEC SUPPORTED              0.000000\n",
            "TEST SERVER                   0.000000\n",
            "browser_test_url              0.006685\n",
            "CONTRACTED DOWNLOAD SPEED    72.850648\n",
            "CONTRACTED UPLOAD SPEED      76.868565\n",
            "CONTRACTED DATA CAP          84.616927\n",
            "CONTRACTED MONTHLY COST      77.343228\n",
            "SERVICE TYPE                 71.653964\n",
            "USER SATISFACTION            75.197219\n",
            "CONNECTION TYPE              81.240808\n",
            "USER COMMENTS                66.760262\n",
            "HEATMAP_MUNICIPALITY          0.000000\n",
            "HEATMAP_CENSUS_TRACTS         0.000000\n",
            "HEATMAP_PROJECT_AREA         90.586977\n",
            "dtype: float64\n"
          ]
        }
      ]
    },
    {
      "cell_type": "markdown",
      "source": [
        "Removing columns with greater than 66% missing values, and then listing the remaining number of rows & columns"
      ],
      "metadata": {
        "id": "jq-FpBzO0ql3"
      }
    },
    {
      "cell_type": "code",
      "source": [
        "# List of columns to remove\n",
        "columns_to_remove = [\n",
        "    'CONTRACTED DOWNLOAD SPEED',\n",
        "    'CONTRACTED UPLOAD SPEED',\n",
        "    'CONTRACTED DATA CAP',\n",
        "    'CONTRACTED MONTHLY COST',\n",
        "    'SERVICE TYPE',\n",
        "    'USER SATISFACTION',\n",
        "    'CONNECTION TYPE',\n",
        "    'USER COMMENTS',\n",
        "    'HEATMAP_PROJECT_AREA'\n",
        "]\n",
        "\n",
        "# Remove the columns\n",
        "df.drop(columns=columns_to_remove, inplace=True)\n",
        "\n",
        "# Save the updated DataFrame\n",
        "df.to_csv('https://raw.githubusercontent.com/InternetSocietyManitobaChapter/JupyterNotebook_NorthEndConnect/main/nec%20Mar%2028%202024.csv', index=False)\n",
        "\n",
        "# Count the number of rows and columns\n",
        "num_rows = df.shape[0]\n",
        "num_columns = df.shape[1]\n",
        "\n",
        "# Print the results\n",
        "print(\"Number of rows:\", num_rows)\n",
        "print(\"Number of columns:\", num_columns)"
      ],
      "metadata": {
        "colab": {
          "base_uri": "https://localhost:8080/"
        },
        "id": "QrquyqwQ1UtZ",
        "outputId": "b63c8154-15e6-4004-f0c2-4a308e6d1477"
      },
      "execution_count": 9,
      "outputs": [
        {
          "output_type": "stream",
          "name": "stdout",
          "text": [
            "Number of rows: 14958\n",
            "Number of columns: 22\n"
          ]
        }
      ]
    },
    {
      "cell_type": "markdown",
      "source": [
        "Checking for duplicates in the TEST ID column"
      ],
      "metadata": {
        "id": "JxhoN6u_1mrd"
      }
    },
    {
      "cell_type": "code",
      "source": [
        "# Count the number of duplicated TEST ID values\n",
        "num_duplicates = df.duplicated(subset='TEST ID', keep=False).sum()\n",
        "\n",
        "# Print the number of duplicates\n",
        "print(f\"There are {num_duplicates} rows with duplicated TEST ID values.\")"
      ],
      "metadata": {
        "colab": {
          "base_uri": "https://localhost:8080/"
        },
        "id": "uF-71pwE1ozz",
        "outputId": "76a1923e-e973-4cf5-db90-8d795775b283"
      },
      "execution_count": 10,
      "outputs": [
        {
          "output_type": "stream",
          "name": "stdout",
          "text": [
            "There are 0 rows with duplicated TEST ID values.\n"
          ]
        }
      ]
    },
    {
      "cell_type": "markdown",
      "source": [
        "Looking for duplicate rows"
      ],
      "metadata": {
        "id": "sJ8Ih7wF1rvj"
      }
    },
    {
      "cell_type": "code",
      "source": [
        "# Find duplicate rows based on all columns\n",
        "duplicates = df[df.duplicated()]\n",
        "\n",
        "# Display the duplicate rows (if any)\n",
        "if len(duplicates) > 0:\n",
        "    print(f\"Found {len(duplicates)} duplicate rows:\")\n",
        "    print(duplicates)\n",
        "else:\n",
        "    print(\"No duplicate rows found.\")"
      ],
      "metadata": {
        "colab": {
          "base_uri": "https://localhost:8080/"
        },
        "id": "AjZSoVD41te2",
        "outputId": "5c8b199f-3b9a-41ce-b23d-d2fe5884e3ac"
      },
      "execution_count": 11,
      "outputs": [
        {
          "output_type": "stream",
          "name": "stdout",
          "text": [
            "No duplicate rows found.\n"
          ]
        }
      ]
    },
    {
      "cell_type": "markdown",
      "source": [
        "Now that we have removed the columns of missing data, re-checking the % of remaining missing data"
      ],
      "metadata": {
        "id": "B3iqmUUX1v3p"
      }
    },
    {
      "cell_type": "code",
      "source": [
        "# Calculate the percentage of missing cells in each column\n",
        "missing_percentages = df.isna().sum() / len(df) * 100\n",
        "\n",
        "# Print the result\n",
        "print(missing_percentages)"
      ],
      "metadata": {
        "colab": {
          "base_uri": "https://localhost:8080/"
        },
        "id": "EQSsPDbw2T0O",
        "outputId": "75f47448-9cef-4e36-cdfe-8c53898d349f"
      },
      "execution_count": 12,
      "outputs": [
        {
          "output_type": "stream",
          "name": "stdout",
          "text": [
            "TEST ID                  0.000000\n",
            "TEST DATE / UTC HOUR     0.000000\n",
            "GEO LATITUDE             0.000000\n",
            "GEO LONGITUDE            0.000000\n",
            "DOWNLOAD SPEED           0.000000\n",
            "UPLOAD SPEED             0.000000\n",
            "JITTER                   0.006685\n",
            "LATENCY                  0.006685\n",
            "PACKET LOSS              0.006685\n",
            "MOBILE TEST              0.000000\n",
            "ISP                      0.000000\n",
            "CLIENT IP                0.000000\n",
            "CLIENT CITY              0.000000\n",
            "CLIENT PROVINCE          0.000000\n",
            "CLIENT POSTAL CODE       0.000000\n",
            "AS NUMBER                0.006685\n",
            "IPV6 SUPPORTED           0.000000\n",
            "DNSSEC SUPPORTED         0.000000\n",
            "TEST SERVER              0.000000\n",
            "browser_test_url         0.006685\n",
            "HEATMAP_MUNICIPALITY     0.000000\n",
            "HEATMAP_CENSUS_TRACTS    0.000000\n",
            "dtype: float64\n"
          ]
        }
      ]
    },
    {
      "cell_type": "markdown",
      "source": [
        "Removing rows then confirming the % of missing items per column."
      ],
      "metadata": {
        "id": "_GgJyGyg2YZs"
      }
    },
    {
      "cell_type": "code",
      "source": [
        "# List of columns to check for missing values\n",
        "columns_to_check = ['JITTER', 'LATENCY', 'PACKET LOSS', 'AS NUMBER', 'browser_test_url']\n",
        "\n",
        "# Remove rows with missing values in specified columns\n",
        "df.dropna(subset=columns_to_check, inplace=True)\n",
        "\n",
        "# Save the updated DataFrame\n",
        "df.to_csv('https://raw.githubusercontent.com/InternetSocietyManitobaChapter/JupyterNotebook_NorthEndConnect/main/nec%20Mar%2028%202024.csv', index=False)\n",
        "\n",
        "# Calculate the percentage of missing cells in each column\n",
        "missing_percentages = df.isna().sum() / len(df) * 100\n",
        "\n",
        "# Print the result\n",
        "print(missing_percentages)"
      ],
      "metadata": {
        "colab": {
          "base_uri": "https://localhost:8080/"
        },
        "id": "ZMIrZcGA2Xi_",
        "outputId": "525d94c7-963c-4c88-b928-6109a6a31ce5"
      },
      "execution_count": 13,
      "outputs": [
        {
          "output_type": "stream",
          "name": "stdout",
          "text": [
            "TEST ID                  0.0\n",
            "TEST DATE / UTC HOUR     0.0\n",
            "GEO LATITUDE             0.0\n",
            "GEO LONGITUDE            0.0\n",
            "DOWNLOAD SPEED           0.0\n",
            "UPLOAD SPEED             0.0\n",
            "JITTER                   0.0\n",
            "LATENCY                  0.0\n",
            "PACKET LOSS              0.0\n",
            "MOBILE TEST              0.0\n",
            "ISP                      0.0\n",
            "CLIENT IP                0.0\n",
            "CLIENT CITY              0.0\n",
            "CLIENT PROVINCE          0.0\n",
            "CLIENT POSTAL CODE       0.0\n",
            "AS NUMBER                0.0\n",
            "IPV6 SUPPORTED           0.0\n",
            "DNSSEC SUPPORTED         0.0\n",
            "TEST SERVER              0.0\n",
            "browser_test_url         0.0\n",
            "HEATMAP_MUNICIPALITY     0.0\n",
            "HEATMAP_CENSUS_TRACTS    0.0\n",
            "dtype: float64\n"
          ]
        }
      ]
    },
    {
      "cell_type": "markdown",
      "source": [
        "We had 14958 rows, let's see how many were removed"
      ],
      "metadata": {
        "id": "kQxiqe4j2u23"
      }
    },
    {
      "cell_type": "code",
      "source": [
        "# Count the number of rows\n",
        "num_rows = df.shape[0]\n",
        "\n",
        "# Print the results\n",
        "print(\"Number of rows:\", num_rows)"
      ],
      "metadata": {
        "colab": {
          "base_uri": "https://localhost:8080/"
        },
        "id": "pXf82guY2267",
        "outputId": "c72e811d-2a0c-4a0f-b2ef-e457f4b47afd"
      },
      "execution_count": 14,
      "outputs": [
        {
          "output_type": "stream",
          "name": "stdout",
          "text": [
            "Number of rows: 14956\n"
          ]
        }
      ]
    },
    {
      "cell_type": "markdown",
      "source": [
        "Only 2 rows removed. Skipping standardizing ISP"
      ],
      "metadata": {
        "id": "HnB8nGA429R6"
      }
    },
    {
      "cell_type": "markdown",
      "source": [
        "Looking at for upload/download speeds of 0 mbps"
      ],
      "metadata": {
        "id": "hv5pg4103Eod"
      }
    },
    {
      "cell_type": "code",
      "source": [
        "# Count the number of cells equal to zero in the 'DOWNLOAD SPEED' column\n",
        "download_speed_zeros = (df['DOWNLOAD SPEED'] == 0).sum()\n",
        "\n",
        "# Count the number of cells equal to zero in the 'UPLOAD SPEED' column\n",
        "upload_speed_zeros = (df['UPLOAD SPEED'] == 0).sum()\n",
        "\n",
        "# Print the counts\n",
        "print(\"Number of cells equal to zero in 'DOWNLOAD SPEED' column:\", download_speed_zeros)\n",
        "print(\"Number of cells equal to zero in 'UPLOAD SPEED' column:\", upload_speed_zeros)"
      ],
      "metadata": {
        "colab": {
          "base_uri": "https://localhost:8080/"
        },
        "id": "eQt68bV029Ba",
        "outputId": "c23ced42-7d11-4c7c-fdc9-59652fe0a22f"
      },
      "execution_count": 15,
      "outputs": [
        {
          "output_type": "stream",
          "name": "stdout",
          "text": [
            "Number of cells equal to zero in 'DOWNLOAD SPEED' column: 0\n",
            "Number of cells equal to zero in 'UPLOAD SPEED' column: 7\n"
          ]
        }
      ]
    },
    {
      "cell_type": "markdown",
      "source": [
        "I now need to remove the rows that have upload speeds of 0, and then list how many cells = 0 to confirm removal was successful"
      ],
      "metadata": {
        "id": "LOohbNos3L_5"
      }
    },
    {
      "cell_type": "code",
      "source": [
        "# Count the number of cells equal to zero in the 'UPLOAD SPEED' column before removal\n",
        "upload_speed_zeros_before = (df['UPLOAD SPEED'] == 0).sum()\n",
        "\n",
        "# Remove rows where UPLOAD SPEED is equal to 0\n",
        "df = df[df['UPLOAD SPEED'] != 0]\n",
        "\n",
        "# Count the number of cells equal to zero in the 'UPLOAD SPEED' column after removal\n",
        "upload_speed_zeros_after = (df['UPLOAD SPEED'] == 0).sum()\n",
        "\n",
        "# Save the updated DataFrame\n",
        "df.to_csv('https://raw.githubusercontent.com/InternetSocietyManitobaChapter/JupyterNotebook_NorthEndConnect/main/nec%20Mar%2028%202024.csv', index=False)\n",
        "\n",
        "# Print the count before and after removal\n",
        "print(\"Number of cells equal to zero in 'UPLOAD SPEED' column before removal:\", upload_speed_zeros_before)\n",
        "print(\"Number of cells equal to zero in 'UPLOAD SPEED' column after removal:\", upload_speed_zeros_after)"
      ],
      "metadata": {
        "colab": {
          "base_uri": "https://localhost:8080/"
        },
        "id": "VcusVnGm3NG_",
        "outputId": "5e29ddc6-d98a-44c3-9c7c-5f82c3fcc943"
      },
      "execution_count": 16,
      "outputs": [
        {
          "output_type": "stream",
          "name": "stdout",
          "text": [
            "Number of cells equal to zero in 'UPLOAD SPEED' column before removal: 7\n",
            "Number of cells equal to zero in 'UPLOAD SPEED' column after removal: 0\n"
          ]
        }
      ]
    },
    {
      "cell_type": "markdown",
      "source": [
        "Standarding the all the sub-categories of Winnipeg to be just \"Winnipeg\""
      ],
      "metadata": {
        "id": "bpoafWFL3eyy"
      }
    },
    {
      "cell_type": "code",
      "source": [
        "df['CLIENT CITY'] = df['CLIENT CITY'].str.replace('.*Winnipeg.*', 'Winnipeg', regex=True)\n",
        "\n",
        "# Get the unique client cities\n",
        "unique_cities = df['CLIENT CITY'].unique()\n",
        "\n",
        "# Save the updated DataFrame\n",
        "df.to_csv('https://raw.githubusercontent.com/InternetSocietyManitobaChapter/JupyterNotebook_NorthEndConnect/main/nec%20Mar%2028%202024.csv', index=False)\n",
        "\n",
        "# Print the unique client cities\n",
        "for city in unique_cities:\n",
        "    print(city)"
      ],
      "metadata": {
        "colab": {
          "base_uri": "https://localhost:8080/"
        },
        "id": "L9P6Z11j3iRy",
        "outputId": "4b4ed6eb-26f9-4abe-9a7c-b60c33a9ef83"
      },
      "execution_count": 17,
      "outputs": [
        {
          "output_type": "stream",
          "name": "stdout",
          "text": [
            "Winnipeg\n",
            "Toronto\n",
            "Vancouver\n",
            "La Salle\n",
            "Oakbank\n",
            "Marathon\n",
            "Cambridge\n",
            "Edmonton\n",
            "Georgetown\n",
            "Port Hope\n",
            "Thorold\n",
            "Old Toronto\n",
            "Blackstock\n",
            "Selkirk\n",
            "Lindsay\n",
            "Charlemagne\n",
            "Steinbach\n",
            "London\n",
            "Etobicoke\n",
            "Brandon\n",
            "Marchand\n",
            "Baie-d'Urfe\n",
            "Saint-Quentin\n",
            "Stonewall\n",
            "Barrie\n",
            "Markdale\n",
            "Hartland\n",
            "Kenora\n",
            "Montreal\n",
            "Calgary\n",
            "Dowling\n",
            "Bradford\n",
            "Dryden\n",
            "Regina\n",
            "Thunder Bay\n",
            "Sydney\n",
            "North York\n",
            "Brampton\n",
            "Mississauga\n",
            "Heritage Pointe\n",
            "Cobourg\n",
            "Hamilton\n",
            "Cooks Creek\n",
            "Moose Jaw\n",
            "Teulon\n",
            "Headingley\n",
            "Hague\n",
            "Markham\n",
            "Chestermere\n",
            "Peterborough\n",
            "Ottawa\n",
            "Cornwall\n",
            "Saskatoon\n",
            "Virden\n",
            "Sault Ste. Marie\n"
          ]
        }
      ]
    },
    {
      "cell_type": "markdown",
      "source": [
        "We want to remove any rows where LATENCY >= 30,000 and then list how many rows were removed"
      ],
      "metadata": {
        "id": "gh9xSpKu3pGK"
      }
    },
    {
      "cell_type": "code",
      "source": [
        "# Count the number of rows before removing\n",
        "count_before = len(df)\n",
        "\n",
        "# Remove rows where latency >= 30,000\n",
        "df = df[df['LATENCY'] < 30000]\n",
        "\n",
        "# Count the number of rows after removing\n",
        "count_after = len(df)\n",
        "\n",
        "# Calculate the count of removed rows\n",
        "count_removed = count_before - count_after\n",
        "\n",
        "# Print the count of removed rows\n",
        "print(\"Number of removed rows:\", count_removed)"
      ],
      "metadata": {
        "colab": {
          "base_uri": "https://localhost:8080/"
        },
        "id": "79rU38q63sm4",
        "outputId": "6e9e60dd-b1f0-4de5-97e3-4bae5dd62d20"
      },
      "execution_count": 18,
      "outputs": [
        {
          "output_type": "stream",
          "name": "stdout",
          "text": [
            "Number of removed rows: 1\n"
          ]
        }
      ]
    },
    {
      "cell_type": "markdown",
      "source": [
        "Descriptive stats for DOWNLOAD SPEED for Winnipeg"
      ],
      "metadata": {
        "id": "s4Ba6bl63wXA"
      }
    },
    {
      "cell_type": "code",
      "source": [
        "# Filter the DataFrame to include only rows where CLIENT CITY is Winnipeg\n",
        "filtered_df = df[df['CLIENT CITY'] == 'Winnipeg']\n",
        "\n",
        "# Extract the DOWNLOAD SPEED column as a Series\n",
        "download_speed = df['DOWNLOAD SPEED']\n",
        "\n",
        "# Calculate the mean and median\n",
        "mean = download_speed.mean()\n",
        "median = download_speed.median()\n",
        "\n",
        "# Calculate other statistical measures\n",
        "range_val = download_speed.max() - download_speed.min()\n",
        "std_dev = download_speed.std()\n",
        "skewness = download_speed.skew()\n",
        "\n",
        "# Find the minimum and maximum values\n",
        "min_download_speed = download_speed.min()\n",
        "max_download_speed = download_speed.max()\n",
        "\n",
        "# Print the results\n",
        "print(\"Min DOWNLOAD SPEED:\", min_download_speed)\n",
        "print(\"Max DOWNLOAD SPEED:\", max_download_speed)\n",
        "print(\"Mean DOWNLOAD SPEED:\", mean)\n",
        "print(\"Median DOWNLOAD SPEED:\", median)\n",
        "print(\"Range DOWNLOAD SPEED:\", range_val)\n",
        "print(\"Standard Deviation DOWNLOAD SPEED:\", std_dev)\n",
        "print(\"Skewness DOWNLOAD SPEED:\", skewness)"
      ],
      "metadata": {
        "colab": {
          "base_uri": "https://localhost:8080/"
        },
        "id": "KcqrAG305KBO",
        "outputId": "a409b56e-8eeb-47cb-e1ab-2900d452f079"
      },
      "execution_count": 19,
      "outputs": [
        {
          "output_type": "stream",
          "name": "stdout",
          "text": [
            "Min DOWNLOAD SPEED: 0.01\n",
            "Max DOWNLOAD SPEED: 1071.58\n",
            "Mean DOWNLOAD SPEED: 113.46242641156009\n",
            "Median DOWNLOAD SPEED: 65.50999999999999\n",
            "Range DOWNLOAD SPEED: 1071.57\n",
            "Standard Deviation DOWNLOAD SPEED: 129.87363613804794\n",
            "Skewness DOWNLOAD SPEED: 1.8582255603211209\n"
          ]
        }
      ]
    },
    {
      "cell_type": "markdown",
      "source": [
        "Descriptive stats for JITTER for Winnipeg"
      ],
      "metadata": {
        "id": "k2oBEiFb7q__"
      }
    },
    {
      "cell_type": "code",
      "source": [
        "# Filter the DataFrame to include only rows where CLIENT CITY is Winnipeg\n",
        "filtered_df = df[df['CLIENT CITY'] == 'Winnipeg']\n",
        "\n",
        "# Extract the JITTER column as a Series\n",
        "jitter = df['JITTER']\n",
        "\n",
        "# Calculate the mean and median\n",
        "mean = jitter.mean()\n",
        "median = jitter.median()\n",
        "\n",
        "# Calculate other statistical measures\n",
        "range_val = jitter.max() - jitter.min()\n",
        "std_dev = jitter.std()\n",
        "skewness = jitter.skew()\n",
        "\n",
        "# # Find the minimum and maximum values\n",
        "min_jitter = jitter.min()\n",
        "max_jitter = jitter.max()\n",
        "\n",
        "# Print the results\n",
        "print(\"Min JITTER:\", min_jitter)\n",
        "print(\"Max JITTER:\", max_jitter)\n",
        "print(\"Mean JITTER:\", mean)\n",
        "print(\"Median JITTER:\", median)\n",
        "print(\"Range JITTER:\", range_val)\n",
        "print(\"Standard Deviation JITTER:\", std_dev)\n",
        "print(\"Skewness JITTER:\", skewness)"
      ],
      "metadata": {
        "colab": {
          "base_uri": "https://localhost:8080/"
        },
        "id": "IFKlILms7sEC",
        "outputId": "e81eca48-85f0-47d0-d22f-d200f98cc728"
      },
      "execution_count": 20,
      "outputs": [
        {
          "output_type": "stream",
          "name": "stdout",
          "text": [
            "Min JITTER: 0.01\n",
            "Max JITTER: 4368.64\n",
            "Mean JITTER: 6.445268932298635\n",
            "Median JITTER: 1.84\n",
            "Range JITTER: 4368.63\n",
            "Standard Deviation JITTER: 45.467535542184905\n",
            "Skewness JITTER: 66.23153331326267\n"
          ]
        }
      ]
    },
    {
      "cell_type": "markdown",
      "source": [
        "Descriptive stats for LATENCY for Winnipeg"
      ],
      "metadata": {
        "id": "424LAx039wnn"
      }
    },
    {
      "cell_type": "code",
      "source": [
        "# Filter the DataFrame to include only rows where CLIENT CITY is Winnipeg\n",
        "filtered_df = df[df['CLIENT CITY'] == 'Winnipeg']\n",
        "\n",
        "# Extract the LATENCY column as a Series\n",
        "latency = df['LATENCY']\n",
        "\n",
        "# Calculate the mean and median\n",
        "mean = latency.mean()\n",
        "median = latency.median()\n",
        "\n",
        "# Calculate other statistical measures\n",
        "range_val = latency.max() - latency.min()\n",
        "std_dev = latency.std()\n",
        "skewness = latency.skew()\n",
        "\n",
        "# # Find the minimum and maximum values\n",
        "min_latency = latency.min()\n",
        "max_latency = latency.max()\n",
        "\n",
        "# Print the results\n",
        "print(\"Min LATENCY:\", min_latency)\n",
        "print(\"Max LATENCY:\", max_latency)\n",
        "print(\"Mean LATENCY:\", mean)\n",
        "print(\"Median LATENCY:\", median)\n",
        "print(\"Range LATENCY:\", range_val)\n",
        "print(\"Standard Deviation LATENCY:\", std_dev)\n",
        "print(\"Skewness LATENCY:\", skewness)"
      ],
      "metadata": {
        "colab": {
          "base_uri": "https://localhost:8080/"
        },
        "id": "RObooqRm9xMK",
        "outputId": "39a91007-222f-402b-d711-98ab80c98575"
      },
      "execution_count": 21,
      "outputs": [
        {
          "output_type": "stream",
          "name": "stdout",
          "text": [
            "Min LATENCY: 0.07\n",
            "Max LATENCY: 1542.32\n",
            "Mean LATENCY: 49.454734412630444\n",
            "Median LATENCY: 41.99\n",
            "Range LATENCY: 1542.25\n",
            "Standard Deviation LATENCY: 37.24061383790003\n",
            "Skewness LATENCY: 12.83428834482966\n"
          ]
        }
      ]
    },
    {
      "cell_type": "markdown",
      "source": [
        "Descriptive stats for PACKET LOSS for Winnipeg"
      ],
      "metadata": {
        "id": "UxhzIJecBo62"
      }
    },
    {
      "cell_type": "code",
      "source": [
        "# Filter the DataFrame to include only rows where CLIENT CITY is Winnipeg\n",
        "filtered_df = df[df['CLIENT CITY'] == 'Winnipeg']\n",
        "\n",
        "# Extract the PACKET LOSS column as a Series\n",
        "packet_loss = df['PACKET LOSS']\n",
        "\n",
        "# Calculate the mean and median\n",
        "mean = packet_loss.mean()\n",
        "median = packet_loss.median()\n",
        "\n",
        "# Calculate other statistical measures\n",
        "range_val = packet_loss.max() - packet_loss.min()\n",
        "std_dev = packet_loss.std()\n",
        "skewness = packet_loss.skew()\n",
        "\n",
        "# # Find the minimum and maximum values\n",
        "min_packet_loss = packet_loss.min()\n",
        "max_packet_loss = packet_loss.max()\n",
        "\n",
        "# Print the results\n",
        "print(\"Min PACKET LOSS:\", min_packet_loss)\n",
        "print(\"Max PACKET LOSS:\", max_packet_loss)\n",
        "print(\"Mean PACKET LOSS:\", mean)\n",
        "print(\"Median PACKET LOSS:\", median)\n",
        "print(\"Range PACKET LOSS:\", range_val)\n",
        "print(\"Standard Deviation PACKET LOSS:\", std_dev)\n",
        "print(\"Skewness PACKET LOSS:\", skewness)"
      ],
      "metadata": {
        "colab": {
          "base_uri": "https://localhost:8080/"
        },
        "id": "IGGGfZxSBp2Q",
        "outputId": "5949990b-4a1d-473d-d51b-7237e7e0e9d2"
      },
      "execution_count": 22,
      "outputs": [
        {
          "output_type": "stream",
          "name": "stdout",
          "text": [
            "Min PACKET LOSS: 0.0\n",
            "Max PACKET LOSS: 47.85\n",
            "Mean PACKET LOSS: 2.2082398983141553\n",
            "Median PACKET LOSS: 0.08\n",
            "Range PACKET LOSS: 47.85\n",
            "Standard Deviation PACKET LOSS: 4.4839955131340945\n",
            "Skewness PACKET LOSS: 3.224587642165551\n"
          ]
        }
      ]
    },
    {
      "cell_type": "markdown",
      "source": [
        "Validating postal codes in Winnipeg against longitude and latitude data"
      ],
      "metadata": {
        "id": "ybXUzMPrEc3u"
      }
    },
    {
      "cell_type": "code",
      "source": [
        "import re\n",
        "\n",
        "# Function to validate postal codes and check coordinates\n",
        "def validate_postal_codes():\n",
        "    invalid_postal_codes = []\n",
        "    for index, row in df.iterrows():\n",
        "        postal_code = row['CLIENT POSTAL CODE']\n",
        "        city = row['CLIENT CITY']\n",
        "\n",
        "        if city.lower() == 'winnipeg':\n",
        "            try:\n",
        "                # Validate the postal code using a regular expression pattern\n",
        "                pattern = r'^[A-Za-z]\\d[A-Za-z]\\s?\\d[A-Za-z]\\d$'\n",
        "                is_valid = re.match(pattern, postal_code)\n",
        "\n",
        "                if not is_valid:\n",
        "                    invalid_postal_codes.append(postal_code)\n",
        "                else:\n",
        "                    # Get the expected coordinates for the postal code\n",
        "                    expected_latitude, expected_longitude = row['GEO LATITUDE'], row['GEO LONGITUDE']\n",
        "\n",
        "                    # Check if the coordinates match the expected values\n",
        "                    if expected_latitude != row['GEO LATITUDE'] or expected_longitude != row['GEO LONGITUDE']:\n",
        "                        invalid_postal_codes.append(postal_code)\n",
        "            except Exception as e:\n",
        "                # Error occurred during validation\n",
        "                print(f\"Error: {str(e)}\")\n",
        "\n",
        "    return invalid_postal_codes\n",
        "\n",
        "# Check and list the invalid postal codes for Winnipeg\n",
        "invalid_codes = validate_postal_codes()\n",
        "if invalid_codes:\n",
        "    print(\"Invalid postal codes for Winnipeg:\")\n",
        "    for postal_code in invalid_codes:\n",
        "        print(postal_code)\n",
        "else:\n",
        "    print(\"All postal codes for Winnipeg are valid.\")"
      ],
      "metadata": {
        "colab": {
          "base_uri": "https://localhost:8080/"
        },
        "id": "e_LS9rSEEfpR",
        "outputId": "281fc129-0cdb-4fa8-b8a2-e33df2f0d90a"
      },
      "execution_count": 23,
      "outputs": [
        {
          "output_type": "stream",
          "name": "stdout",
          "text": [
            "Invalid postal codes for Winnipeg:\n",
            "None\n",
            "None\n",
            "None\n",
            "None\n",
            "R2X2H\n",
            "R2N\n",
            "R2N\n",
            "R2N\n",
            "R2N\n",
            "R2N\n",
            "R2N\n",
            "R2N\n"
          ]
        }
      ]
    },
    {
      "cell_type": "markdown",
      "source": [
        "Dropping the invalid Postal Code rows"
      ],
      "metadata": {
        "id": "iGDT-Km9Eoie"
      }
    },
    {
      "cell_type": "code",
      "source": [],
      "metadata": {
        "id": "uDl07GqHEqB_"
      },
      "execution_count": null,
      "outputs": []
    }
  ]
}